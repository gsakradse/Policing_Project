{
 "cells": [
  {
   "cell_type": "markdown",
   "metadata": {},
   "source": [
    "# Initial Data Explore in Stanford Open Policing Project Hartford "
   ]
  },
  {
   "cell_type": "code",
   "execution_count": 9,
   "metadata": {},
   "outputs": [
    {
     "data": {
      "text/plain": [
       "1.3558218992353166"
      ]
     },
     "execution_count": 9,
     "metadata": {},
     "output_type": "execute_result"
    }
   ],
   "source": [
    "# Grabbing libraries \n",
    "import matplotlib.pyplot as plt\n",
    "import numpy as np\n",
    "import pandas\n",
    "import csv\n",
    "import os\n",
    "\n",
    "plt.rcParams['figure.figsize'] = [16, 8]; # Sets default figsize [width, height] (apparently in in., though it seems bigger than it actually is...)\n",
    "\n",
    "# Setup: Local data directory (this could possibly be changed to an online database as we get smarter)\n",
    "# Cannot use a normal string as a path, have to have the r to convert to raw string\n",
    "direc = r'C:\\Users\\gsakr\\Dropbox\\Police_Proj_Data' \n",
    "\n",
    "# define the path to the file we are playing with \n",
    "loc_pth = os.path.join(direc, 'Stanford_OPP', 'ct_hartford_2020_04_01.csv')\n",
    "\n",
    "# Building a pandas dataframe from the .csv file\n",
    "df = pandas.read_csv(loc_pth)\n",
    "\n",
    "# Display the top of the data \n",
    "df.head()\n",
    "\n",
    "# Display the bottom of the data\n",
    "df.tail()\n",
    "\n",
    "# Want to sort the data on the 'search_vehicile' column, make a new dat-frame \n",
    "# containing only 'search_vehicile' == true (logical indexing is awesome).\n",
    "search = df[df['search_vehicle'] == True]\n",
    "\n",
    "# Shape gets us the size of the array, in (m,n), so the zeroeth index is the \n",
    "# number of rows in the data, or the sample-size.\n",
    "shSearch = search.shape\n",
    "shTotal = df.shape\n",
    "\n",
    "# This is the ratio of total stops which involve searches\n",
    "SearchRat = shSearch[0]/shTotal[0]\n",
    "\n",
    "# Display as a percent\n",
    "SearchRat*100\n"
   ]
  }
 ],
 "metadata": {
  "kernelspec": {
   "display_name": "Python 3",
   "language": "python",
   "name": "python3"
  },
  "language_info": {
   "codemirror_mode": {
    "name": "ipython",
    "version": 3
   },
   "file_extension": ".py",
   "mimetype": "text/x-python",
   "name": "python",
   "nbconvert_exporter": "python",
   "pygments_lexer": "ipython3",
   "version": "3.7.0"
  }
 },
 "nbformat": 4,
 "nbformat_minor": 4
}
